{
 "cells": [
  {
   "cell_type": "markdown",
   "metadata": {},
   "source": [
    "# Testing database update code"
   ]
  },
  {
   "cell_type": "code",
   "execution_count": 1,
   "metadata": {},
   "outputs": [
    {
     "name": "stdout",
     "output_type": "stream",
     "text": [
      "(\u001b[0;36mpositive\u001b[0m)>> Applying custom matplotlib settings.\n"
     ]
    }
   ],
   "source": [
    "#\n",
    "from nrutils.core import global_settings\n",
    "from os.path import dirname, basename, isdir, realpath, abspath, join, splitext, isfile\n",
    "from os import pardir,system,popen\n",
    "import pickle\n",
    "import glob\n",
    "from nrutils.core.basics import *\n",
    "from nrutils.core.nrsc import scconfig, scentry\n",
    "from commands import getstatusoutput as bash"
   ]
  },
  {
   "cell_type": "code",
   "execution_count": 2,
   "metadata": {},
   "outputs": [],
   "source": [
    "# name of database to be updated\n",
    "db_to_update = 'hogshead'\n",
    "\n",
    "# path to the new simulation directory\n",
    "new_sim_path = '/mnt/hogshead/NR_data/ReducedData-hogshead/q4/120_point/q4a04t60dPm1_T_120_480'"
   ]
  },
  {
   "cell_type": "code",
   "execution_count": 5,
   "metadata": {},
   "outputs": [
    {
     "name": "stdout",
     "output_type": "stream",
     "text": [
      "(\u001b[0;36mrefresh_db\u001b[0m)>> Filtering ini files for \"\u001b[0;36mhogshead\u001b[0m\"\n"
     ]
    }
   ],
   "source": [
    "# find the database location\n",
    "cpath_list = glob.glob( global_settings.config_path+'*.ini' )\n",
    "\n",
    "if isinstance(db_to_update,(str,unicode)):\n",
    "    msg = 'Filtering ini files for \\\"%s\\\"'%cyan(db_to_update)\n",
    "    alert(msg,'refresh_db')\n",
    "    cpath_list = filter( lambda path: db_to_update in path, cpath_list )"
   ]
  },
  {
   "cell_type": "code",
   "execution_count": 7,
   "metadata": {},
   "outputs": [],
   "source": [
    "# get the config information\n",
    "config = scconfig(cpath_list[0])\n",
    "\n",
    "# Create streaming log file\n",
    "logfstr = global_settings.database_path + '/' + splitext(basename(config.config_file_location))[0] + '.log'\n",
    "msg = 'Opening log file in: '+cyan(logfstr)\n",
    "alert(msg)\n",
    "logfid = open(logfstr, 'w')\n",
    "\n",
    "# cull a possible list of databases to the first entry\n",
    "catalog_dir = config.catalog_dir\n",
    "if isinstance( config.catalog_dir, list ):\n",
    "    warning('Multiple catalog directories found. We will scan through the related list, \\\n",
    "    and then store first the catalog_dir that the OS can find.')\n",
    "    for d in config.catalog_dir:\n",
    "        from os.path import isdir\n",
    "        if isdir(d):\n",
    "            catalog_dir = d\n",
    "            warning('Selecting \"%s\"'%cyan(d))\n",
    "            break"
   ]
  },
  {
   "cell_type": "code",
   "execution_count": 10,
   "metadata": {},
   "outputs": [],
   "source": [
    "# path to current working database\n",
    "current_database_path = global_settings.database_path + splitext(basename(config.config_file_location))[0] \\\n",
    "+ '.' + global_settings.database_ext"
   ]
  },
  {
   "cell_type": "code",
   "execution_count": 12,
   "metadata": {},
   "outputs": [
    {
     "name": "stdout",
     "output_type": "stream",
     "text": [
      "(\u001b[0;36mnotebook\u001b[0m)>> Opening database file in: \u001b[0;36m/Users/jthompson/code/git_repos/nrutils_dev/nrutils/database/hogshead.db\u001b[0m\n"
     ]
    }
   ],
   "source": [
    "# open the database if it exists\n",
    "if isfile(current_database_path):\n",
    "    msg = 'Opening database file in: ' + cyan(current_database_path)\n",
    "    alert(msg)\n",
    "    with open( current_database_path, 'r') as data_file:\n",
    "        current_database = pickle.load(data_file)\n",
    "else:\n",
    "    msg = \"Database doesn't exist!\"+cyan(current_database_path)\n",
    "    error(msg)"
   ]
  },
  {
   "cell_type": "code",
   "execution_count": 13,
   "metadata": {},
   "outputs": [],
   "source": [
    "# Generate a list of current simulation directories in the database\n",
    "current_db_dirs = [e.raw_metadata.source_dir[0] for e in current_database ]\n",
    "current_db_simnames = [e.simname for e in current_database ]"
   ]
  },
  {
   "cell_type": "code",
   "execution_count": 14,
   "metadata": {},
   "outputs": [],
   "source": [
    "# check to see if the simulation is already in the database by directory information\n",
    "if new_sim_path in current_db_dirs:\n",
    "    msg = 'The \"new\" simulation is already in the database!'\n",
    "    alert(msg)"
   ]
  },
  {
   "cell_type": "code",
   "execution_count": 15,
   "metadata": {},
   "outputs": [
    {
     "name": "stdout",
     "output_type": "stream",
     "text": [
      "(\u001b[0;36mnotebook\u001b[0m)>> Searching for \u001b[0;36m.bbh\u001b[0m in \u001b[0;36m/mnt/hogshead/NR_data/ReducedData-hogshead/q4/120_point/q4a04t60dPm1_T_120_480\u001b[0m.\u001b[0;33m This may take a long time if the folder being searched is mounted from a remote drive.\u001b[0m\n",
      "(\u001b[0;36mrfind\u001b[0m)>> Seaching for \u001b[0;36m.bbh\u001b[0m in \u001b[0;36m/mnt/hogshead/NR_data/ReducedData-hogshead/q4/120_point/q4a04t60dPm1_T_120_480\u001b[0m:\n",
      "\u001b[0;35m  ->  /mnt/hogshead/NR_data/ReducedData-hogshead/q4/120_point/q4a04t60dPm1_T_120_480/psi4modes\u001b[0m\u001b[0;36m.bbh\u001b[0m\u001b[0;35m\u001b[0m\n",
      "\u001b[0;35m  ->  /mnt/hogshead/NR_data/ReducedData-hogshead/q4/120_point/q4a04t60dPm1_T_120_480/q4a04t60dPm1_T_120_480.raw\u001b[0m\u001b[0;36m.bbh\u001b[0m\u001b[0;35m\u001b[0m\n",
      "\u001b[0;35m  ->  /mnt/hogshead/NR_data/ReducedData-hogshead/q4/120_point/q4a04t60dPm1_T_120_480/q4a04t60dPm1_T_120_480\u001b[0m\u001b[0;36m.bbh\u001b[0m\u001b[0;35m\u001b[0m\n",
      "(\u001b[0;36mnotebook\u001b[0m)>> done.\n"
     ]
    }
   ],
   "source": [
    "# find the .bbh files that we want (or whatever file the particular database cares about)\n",
    "msg = 'Searching for %s in %s.' % ( cyan(config.metadata_id), cyan(new_sim_path) ) + \\\n",
    "yellow(' This may take a long time if the folder being searched is mounted from a remote drive.')\n",
    "alert(msg)\n",
    "mdfile_list = rfind(new_sim_path,config.metadata_id,verbose=True)\n",
    "alert('done.')"
   ]
  },
  {
   "cell_type": "code",
   "execution_count": 17,
   "metadata": {},
   "outputs": [
    {
     "name": "stdout",
     "output_type": "stream",
     "text": [
      "## The following is \u001b[31minvalid\u001b[0m: \u001b[0;36m/mnt/hogshead/NR_data/ReducedData-hogshead/q4/120_point/q4a04t60dPm1_T_120_480/psi4modes.bbh\u001b[0m\n",
      "(\u001b[0;36mnotebook\u001b[0m)>> This entry is not valid: /mnt/hogshead/NR_data/ReducedData-hogshead/q4/120_point/q4a04t60dPm1_T_120_480/psi4modes.bbh\n",
      "## The following is \u001b[31minvalid\u001b[0m: \u001b[0;36m/mnt/hogshead/NR_data/ReducedData-hogshead/q4/120_point/q4a04t60dPm1_T_120_480/q4a04t60dPm1_T_120_480.raw.bbh\u001b[0m\n",
      "(\u001b[0;36mnotebook\u001b[0m)>> This entry is not valid: /mnt/hogshead/NR_data/ReducedData-hogshead/q4/120_point/q4a04t60dPm1_T_120_480/q4a04t60dPm1_T_120_480.raw.bbh\n",
      "## Working: \u001b[0;36m/mnt/hogshead/NR_data/ReducedData-hogshead/q4/120_point/q4a04t60dPm1_T_120_480/q4a04t60dPm1_T_120_480.bbh\u001b[0m\n",
      "(\u001b[0;36mbam.py\u001b[0m)>> \u001b[0;36mInitial parameters corresponding to the bbh file's aftrejunktime will be used to populate metadata.\u001b[0m\n",
      "(\u001b[0;36mscentry.learn_metadata\u001b[0m)>> The handler is found to have a \"\u001b[92minfer_default_level_and_extraction_parameter\u001b[0m\" method. Rather than the config file, this method will be used to determine the default extraction parameter and level.\n",
      "(\u001b[0;36mnotebook\u001b[0m)>> The \"new\" simulation name is already in the database!\n"
     ]
    }
   ],
   "source": [
    "# update the database!\n",
    "for mdfile in mdfile_list:\n",
    "    # Create scentry object\n",
    "    entry = scentry(config,mdfile,verbose=True)\n",
    "\n",
    "    # write to log file\n",
    "    logfid.write( '%5i\\t%s\\n'% (0,entry.log) )\n",
    "\n",
    "    if entry.isvalid:\n",
    "        # entry is valid and now we can check if it's already in the database via simname\n",
    "        if entry.simname in current_db_simnames:\n",
    "            msg = 'The \"new\" simulation name is already in the database!'\n",
    "            alert(msg)\n",
    "            break\n",
    "            # quit()\n",
    "        else:\n",
    "            # If the obj is valid, add it to the catalog list\n",
    "            alert('Simulation missing in the database and will be added\\t\\t\\t\\t %s'%yellow(entry.simname))\n",
    "\n",
    "            # Backup old database\n",
    "            db_backup_path = current_database_path + '.backup'\n",
    "            msg = 'Creating backup of database file to %s'%cyan(db_backup_path)\n",
    "            alert(msg,'scbuild')\n",
    "            with open(db_backup_path, 'wb') as dbf:\n",
    "              pickle.dump( current_database , dbf, pickle.HIGHEST_PROTOCOL )\n",
    "\n",
    "            # Append new entries to the old database\n",
    "            new_database = current_database[:]\n",
    "            new_database.append(entry)\n",
    "\n",
    "            # Write updated database to file\n",
    "            msg = 'Saving updated database file to %s'%cyan(current_database_path)\n",
    "            alert(msg,'scbuild')\n",
    "            with open( current_database_path, 'wb') as data_file:\n",
    "                pickle.dump( new_database, data_file, pickle.HIGHEST_PROTOCOL )\n",
    "    else:\n",
    "        # .bbh file not valid to create scentry object\n",
    "        msg = 'This entry is not valid: {}'.format(mdfile)\n",
    "        alert(msg)"
   ]
  },
  {
   "cell_type": "code",
   "execution_count": null,
   "metadata": {},
   "outputs": [],
   "source": [
    "# Close the log file\n",
    "logfid.close()"
   ]
  }
 ],
 "metadata": {
  "kernelspec": {
   "display_name": "Python 2",
   "language": "python",
   "name": "python2"
  },
  "language_info": {
   "codemirror_mode": {
    "name": "ipython",
    "version": 2
   },
   "file_extension": ".py",
   "mimetype": "text/x-python",
   "name": "python",
   "nbconvert_exporter": "python",
   "pygments_lexer": "ipython2",
   "version": "2.7.15"
  }
 },
 "nbformat": 4,
 "nbformat_minor": 2
}
