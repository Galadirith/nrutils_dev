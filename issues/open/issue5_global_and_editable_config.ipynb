{
 "cells": [
  {
   "cell_type": "markdown",
   "metadata": {},
   "source": [
    "# Create class to handle config files in a way that allows the user to change settings on the fly\n",
    "<center> without touching things committed to the repo </center>"
   ]
  },
  {
   "cell_type": "code",
   "execution_count": 1,
   "metadata": {
    "ExecuteTime": {
     "end_time": "2017-11-11T16:57:40.329061Z",
     "start_time": "2017-11-11T16:57:39.687257"
    },
    "collapsed": false
   },
   "outputs": [
    {
     "name": "stdout",
     "output_type": "stream",
     "text": [
      "(\u001b[0;36mpositive\u001b[0m)>> Applying custom matplotlib settings.\n"
     ]
    }
   ],
   "source": [
    "# Setup ipython environment\n",
    "%load_ext autoreload\n",
    "%autoreload 2\n",
    "# Import nrutils stuffs \n",
    "from nrutils import __gconfig__"
   ]
  },
  {
   "cell_type": "code",
   "execution_count": 6,
   "metadata": {
    "ExecuteTime": {
     "end_time": "2017-11-11T17:02:21.819114Z",
     "start_time": "2017-11-11T17:02:21.068516"
    },
    "collapsed": false
   },
   "outputs": [
    {
     "name": "stdout",
     "output_type": "stream",
     "text": [
      "(\u001b[0;36mgconfig\u001b[0m)>> Found 5 config (ini) files in \"\u001b[0;36m/Users/book/JOKI/Libs/KOALA/nrutils_dev/nrutils/config/\u001b[0m\"\n",
      "(\u001b[0;36mmkdir\u001b[0m)>> Directory at \"\u001b[92m/Users/book/.nrutils_user_settings/\u001b[0m\" already exists \u001b[0;33mand will be not be altered or created.\u001b[0m.\n",
      "\u001b[1m(\u001b[0;33mreconfig!\u001b[0m)>> \u001b[0mYou system does not have access to the following catalog directories as defined in settings:\n",
      "\u001b[0;36m['/mnt/hogshead/NR_data/ReducedData-hogshead//', '~/MOUNT/tmp/mnt/hogshead/NR_data/ReducedData-hogshead//', '/Users/markodh/sshfs-atlas2/mnt/hogshead/NR_data/ReducedData-hogshead//']\u001b[0m\n",
      " If you'd like access to this catalog, please update your settings or manually mount the desired location.\n",
      "\u001b[1m(\u001b[0;33mreconfig!\u001b[0m)>> \u001b[0mYou system does not have access to the following catalog directories as defined in settings:\n",
      "\u001b[0;36m['/raid/data/ReducedData//', '/Users/book/MOUNT/tmp/raid/data/ReducedData/']\u001b[0m\n",
      " If you'd like access to this catalog, please update your settings or manually mount the desired location.\n"
     ]
    }
   ],
   "source": [
    "a = __gconfig__( verbose=True )"
   ]
  },
  {
   "cell_type": "code",
   "execution_count": 7,
   "metadata": {
    "ExecuteTime": {
     "end_time": "2017-11-11T17:07:40.309402Z",
     "start_time": "2017-11-11T17:07:40.214689"
    },
    "collapsed": false
   },
   "outputs": [
    {
     "data": {
      "text/plain": [
       "[<nrutils.core.nrsc.scconfig instance at 0x10a839e60>,\n",
       " <nrutils.core.nrsc.scconfig instance at 0x10a839e18>,\n",
       " <nrutils.core.nrsc.scconfig instance at 0x10a832830>,\n",
       " <nrutils.core.nrsc.scconfig instance at 0x10a839ea8>,\n",
       " <nrutils.core.nrsc.scconfig instance at 0x10a8395f0>]"
      ]
     },
     "execution_count": 7,
     "metadata": {},
     "output_type": "execute_result"
    }
   ],
   "source": [
    "a.configs"
   ]
  },
  {
   "cell_type": "code",
   "execution_count": 4,
   "metadata": {
    "ExecuteTime": {
     "end_time": "2017-11-05T22:58:50.886743Z",
     "start_time": "2017-11-05T22:58:50.850734"
    },
    "collapsed": false
   },
   "outputs": [
    {
     "data": {
      "text/plain": [
       "['__doc__', '__init__', '__module__', 'configs']"
      ]
     },
     "execution_count": 4,
     "metadata": {},
     "output_type": "execute_result"
    }
   ],
   "source": [
    "dir(a)"
   ]
  },
  {
   "cell_type": "code",
   "execution_count": 8,
   "metadata": {
    "ExecuteTime": {
     "end_time": "2017-11-12T18:58:16.364402Z",
     "start_time": "2017-11-12T18:58:16.165482"
    },
    "collapsed": false
   },
   "outputs": [
    {
     "data": {
      "text/plain": [
       "2.48938247061729"
      ]
     },
     "execution_count": 8,
     "metadata": {},
     "output_type": "execute_result"
    }
   ],
   "source": [
    "1.5777777**2"
   ]
  },
  {
   "cell_type": "code",
   "execution_count": 9,
   "metadata": {
    "ExecuteTime": {
     "end_time": "2017-11-13T19:19:05.522293Z",
     "start_time": "2017-11-13T19:19:05.194516"
    },
    "collapsed": true
   },
   "outputs": [],
   "source": [
    "from nrutils import scsearch"
   ]
  },
  {
   "cell_type": "code",
   "execution_count": 23,
   "metadata": {
    "ExecuteTime": {
     "end_time": "2017-11-13T19:30:54.974319Z",
     "start_time": "2017-11-13T19:30:37.745487"
    },
    "collapsed": false
   },
   "outputs": [
    {
     "name": "stdout",
     "output_type": "stream",
     "text": [
      "(\u001b[0;36mscsearch\u001b[0m)>> Found \u001b[4mkeyword\u001b[0m (='q18a0aM04c025_96_fine') keyword.\n",
      "(\u001b[0;36mscsearch\u001b[0m)>> Found \u001b[4mverbose\u001b[0m (=True) keyword.\n",
      "(\u001b[0;36mscsearch\u001b[0m)>> List of keywords or string keyword found: \u001b[0;36mALL scentry objects matching will be passed.\u001b[0m To pass ANY entries matching the keywords, input the keywords using an iterable of not of type list.\n",
      "## Found \u001b[1m3\u001b[0m\u001b[0;35m possibly degenerate\u001b[0m simulations:\n",
      "[0001][\u001b[92msilures\u001b[0m] \u001b[0;36mBAM\u001b[0m: 1chi0.40-saa-q18.00\t(\u001b[0;36mq18a0aM04c025_96_fine\u001b[0m)\n",
      "[0002][\u001b[92msilures\u001b[0m] \u001b[0;36mBAM\u001b[0m: 1chi0.40-saa-q18.00\t(\u001b[0;36mq18a0aM04c025_96_fine\u001b[0m)\n",
      "[0003][\u001b[92msilures\u001b[0m] \u001b[0;36mBAM\u001b[0m: 1chi0.40-sa-q18.00\t(\u001b[0;36mq18a0aM04c025_96_fine\u001b[0m)\n",
      "\n"
     ]
    }
   ],
   "source": [
    "A = scsearch(keyword='q18a0aM04c025_96_fine',verbose=True)"
   ]
  },
  {
   "cell_type": "code",
   "execution_count": 24,
   "metadata": {
    "ExecuteTime": {
     "end_time": "2017-11-13T19:31:04.877135Z",
     "start_time": "2017-11-13T19:31:04.824131"
    },
    "collapsed": true
   },
   "outputs": [],
   "source": [
    "a = A[0]"
   ]
  },
  {
   "cell_type": "code",
   "execution_count": 28,
   "metadata": {
    "ExecuteTime": {
     "end_time": "2017-11-13T19:32:31.823774Z",
     "start_time": "2017-11-13T19:32:30.945455"
    },
    "collapsed": false
   },
   "outputs": [
    {
     "name": "stdout",
     "output_type": "stream",
     "text": [
      "/Volumes/athena/silures/BAM/q18/q18a0aM04c025_96_fine/q18a0aM04c025_96_fine/\n",
      "/Volumes/athena/silures/\n",
      "['/Volumes/athena/silures/BAM/q18/q18a0aM04c025_96_fine/q18a0aM04c025_96_fine/', '/Volumes/athena/silures/BAM/q18/q18a0aM04c025_96_fine/q18a0aM04c025_96_fine/']\n",
      "\n",
      "/Volumes/athena/silures/BAM/q18/q18a0aM04c025_96_fine/q18a0aM04c025_96_fine/\n",
      "/Volumes/athena/silures/\n",
      "['/mnt/hogshead/NR_data/Mirror/Machines/UIBAtlas/data/Reduced_Data/BAM/q18/q18a0aM04c025_96_fine/q18a0aM04c025_96_fine/', '/mnt/hogshead/NR_data/Mirror/Machines/UIBAtlas/data/Reduced_Data/BAM/q18/q18a0aM04c025_96_fine/q18a0aM04c025_96_fine/']\n",
      "\n",
      "/Volumes/athena/silures/BAM/q18/q18a0aM04c025_96_fine/q18a0aM04c025_96_fine/\n",
      "/Volumes/athena/silures/\n",
      "['/Volumes/athena/silures/BAM/q18/q18a0aM04c025_96_fine/q18a0aM04c025_96_fine/', '/Volumes/athena/silures/BAM/q18/q18a0aM04c025_96_fine/q18a0aM04c025_96_fine/']\n",
      "\n"
     ]
    }
   ],
   "source": [
    "for a in A:\n",
    "    print a.simdir()\n",
    "    print a.config.catalog_dir\n",
    "    print a.raw_metadata.source_dir\n",
    "    print ''"
   ]
  },
  {
   "cell_type": "code",
   "execution_count": null,
   "metadata": {
    "collapsed": true
   },
   "outputs": [],
   "source": []
  }
 ],
 "metadata": {
  "kernelspec": {
   "display_name": "Python 2",
   "language": "python",
   "name": "python2"
  },
  "language_info": {
   "codemirror_mode": {
    "name": "ipython",
    "version": 2
   },
   "file_extension": ".py",
   "mimetype": "text/x-python",
   "name": "python",
   "nbconvert_exporter": "python",
   "pygments_lexer": "ipython2",
   "version": "2.7.14"
  }
 },
 "nbformat": 4,
 "nbformat_minor": 0
}
