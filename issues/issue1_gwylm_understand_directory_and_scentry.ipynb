{
 "cells": [
  {
   "cell_type": "markdown",
   "metadata": {},
   "source": [
    "# Make gwylm class understand directory and scentry as 1st input"
   ]
  },
  {
   "cell_type": "code",
   "execution_count": 1,
   "metadata": {
    "ExecuteTime": {
     "end_time": "2017-10-27T15:33:20.697808Z",
     "start_time": "2017-10-27T15:33:18.859351"
    },
    "collapsed": false
   },
   "outputs": [],
   "source": [
    "# Setup ipython environment\n",
    "%load_ext autoreload\n",
    "%autoreload 2\n",
    "# %matplotlib auto\n",
    "%matplotlib inline\n",
    "# Import useful things\n",
    "#\n",
    "# from os import system\n",
    "# system('source ~/.virtual_enviroments/ringdownFD_nikhef/bin/activate')\n",
    "from kerr import rgb,gmvpfit,modelrd,anglep,qnmfit,leaver,ndflatten,sunwrap,alert,cyan,slm\n",
    "from kerr.models import mmrdns as ns\n",
    "from nrutils import scsearch,gwylm,FinalSpin0815,EradRational0815,simdir2scentry\n",
    "# Setup plotting backend\n",
    "import matplotlib as mpl\n",
    "from mpl_toolkits.mplot3d import axes3d\n",
    "mpl.rcParams['lines.linewidth'] = 0.8\n",
    "mpl.rcParams['font.family'] = 'serif'\n",
    "mpl.rcParams['font.size'] = 12\n",
    "mpl.rcParams['axes.labelsize'] = 20\n",
    "mpl.rcParams['axes.titlesize'] = 20\n",
    "from matplotlib.pyplot import *\n",
    "from mpl_toolkits.mplot3d import Axes3D\n",
    "#\n",
    "import corner\n",
    "#\n",
    "from numpy import *"
   ]
  },
  {
   "cell_type": "code",
   "execution_count": 8,
   "metadata": {
    "ExecuteTime": {
     "end_time": "2017-10-27T19:07:34.383220Z",
     "start_time": "2017-10-27T19:06:27.023369"
    },
    "collapsed": false,
    "scrolled": false
   },
   "outputs": [
    {
     "name": "stdout",
     "output_type": "stream",
     "text": [
      "\u001b[1m(\u001b[0;33mvalidate!\u001b[0m)>> \u001b[0mMultiple catalog directories found. We will scan through the related list, and then store first the catalog_dir that the OS can find.\n",
      "\u001b[1m(\u001b[0;33mvalidate!\u001b[0m)>> \u001b[0mSelecting \"\u001b[0;36m/Volumes/athena/bradwr/\u001b[0m\"\n",
      "\u001b[1m(\u001b[0;33mvalidate!\u001b[0m)>> \u001b[0mMultiple catalog directories found. We will scan through the related list, and then store first the catalog_dir that the OS can find.\n",
      "\u001b[1m(\u001b[0;33mvalidate!\u001b[0m)>> \u001b[0mMultiple catalog directories found. We will scan through the related list, and then store first the catalog_dir that the OS can find.\n",
      "\u001b[1m(\u001b[0;33mvalidate!\u001b[0m)>> \u001b[0mSelecting \"\u001b[0;36m/Volumes/athena/silures/\u001b[0m\"\n",
      "\n",
      "# -~-~-~-~-~-~-~-~-~-~-~-~-~-~-~-~-~-~-~-~-~-~-~-~-~-~-~-~-~-~-~-~-~-~-~-~-~-~-~-~-~-~-~-~-~-~-~-~-~-~-~-~-~-~-~-~-~-~-~-~-~-~-~-~-~-~-~-~-~-~-~-~-~-~-~-~-~-~-~-~-~-~-~-~-~-~-~-~-~-~-~-~-~-~-~-~-~-~-~-~-~-~-~-~-~-~-~-~-~-~-~-~-~-~-~-~-~-~-~-~-~ #\n",
      "\u001b[1m(\u001b[0;36msimdir2scentry\u001b[0m)>> Searching for \u001b[0;36m.par\u001b[0m in \u001b[0;36m/Volumes/athena/silures/BAM/q4Sebastian/q4a0_T_112_448/q4a0_T_112_448/\u001b[0m.\u001b[0;33m This may take a long time if the folder being searched is mounted from a remote drive.\u001b[0m\u001b[0m\n",
      "# -~-~-~-~-~-~-~-~-~-~-~-~-~-~-~-~-~-~-~-~-~-~-~-~-~-~-~-~-~-~-~-~-~-~-~-~-~-~-~-~-~-~-~-~-~-~-~-~-~-~-~-~-~-~-~-~-~-~-~-~-~-~-~-~-~-~-~-~-~-~-~-~-~-~-~-~-~-~-~-~-~-~-~-~-~-~-~-~-~-~-~-~-~-~-~-~-~-~-~-~-~-~-~-~-~-~-~-~-~-~-~-~-~-~-~-~-~-~-~-~-~ #\n",
      "\n",
      "(\u001b[0;36mrfind\u001b[0m)>> Seaching for \u001b[0;36m.par\u001b[0m in \u001b[0;36m/Volumes/athena/silures/BAM/q4Sebastian/q4a0_T_112_448/q4a0_T_112_448/\u001b[0m:\n",
      "\u001b[0;35m  ->  /Volumes/athena/silures/BAM/q4Sebastian/q4a0_T_112_448/q4a0_T_112_448/q4a0_T_112_448\u001b[0m\u001b[0;36m.par\u001b[0m\u001b[0;35m\u001b[0m\n",
      "(\u001b[0;36msimdir2scentry\u001b[0m)>> done.\n",
      "\u001b[1m(\u001b[0;33mmaya.validate!\u001b[0m)>> \u001b[0mwaveform data could not be found.\n",
      "## The following is \u001b[31minvalid\u001b[0m: \u001b[0;36m/Volumes/athena/silures/BAM/q4Sebastian/q4a0_T_112_448/q4a0_T_112_448/q4a0_T_112_448.par\u001b[0m\n",
      "[Log for <nrutils.core.nrsc.scentry instance at 0x10ada0f38>] The file is \"/Volumes/athena/silures/BAM/q4Sebastian/q4a0_T_112_448/q4a0_T_112_448/q4a0_T_112_448.par\". This entry's metadta file is invalid.\n",
      "\n",
      "# -~-~-~-~-~-~-~-~-~-~-~-~-~-~-~-~-~-~-~-~-~-~-~-~-~-~-~-~-~-~-~-~-~-~-~-~-~-~-~-~-~-~-~-~-~-~-~-~-~-~-~-~-~-~-~-~-~-~-~-~-~-~-~-~-~-~-~-~-~-~-~-~-~-~-~-~-~-~-~-~-~-~-~-~-~-~-~-~-~-~-~-~-~-~-~-~-~-~-~-~-~-~-~-~-~-~-~-~-~-~-~-~-~-~-~-~-~-~-~-~-~ #\n",
      "\u001b[1m(\u001b[0;36msimdir2scentry\u001b[0m)>> Searching for \u001b[0;36m.bbh\u001b[0m in \u001b[0;36m/Volumes/athena/silures/BAM/q4Sebastian/q4a0_T_112_448/q4a0_T_112_448/\u001b[0m.\u001b[0;33m This may take a long time if the folder being searched is mounted from a remote drive.\u001b[0m\u001b[0m\n",
      "# -~-~-~-~-~-~-~-~-~-~-~-~-~-~-~-~-~-~-~-~-~-~-~-~-~-~-~-~-~-~-~-~-~-~-~-~-~-~-~-~-~-~-~-~-~-~-~-~-~-~-~-~-~-~-~-~-~-~-~-~-~-~-~-~-~-~-~-~-~-~-~-~-~-~-~-~-~-~-~-~-~-~-~-~-~-~-~-~-~-~-~-~-~-~-~-~-~-~-~-~-~-~-~-~-~-~-~-~-~-~-~-~-~-~-~-~-~-~-~-~-~ #\n",
      "\n",
      "(\u001b[0;36mrfind\u001b[0m)>> Seaching for \u001b[0;36m.bbh\u001b[0m in \u001b[0;36m/Volumes/athena/silures/BAM/q4Sebastian/q4a0_T_112_448/q4a0_T_112_448/\u001b[0m:\n",
      "\u001b[0;35m  ->  /Volumes/athena/silures/BAM/q4Sebastian/q4a0_T_112_448/q4a0_T_112_448/psi4modes\u001b[0m\u001b[0;36m.bbh\u001b[0m\u001b[0;35m\u001b[0m\n",
      "\u001b[0;35m  ->  /Volumes/athena/silures/BAM/q4Sebastian/q4a0_T_112_448/q4a0_T_112_448/q4a0_T_112_448\u001b[0m\u001b[0;36m.bbh\u001b[0m\u001b[0;35m\u001b[0m\n",
      "\u001b[0;35m  ->  /Volumes/athena/silures/BAM/q4Sebastian/q4a0_T_112_448/q4a0_T_112_448/q4a0_T_112_448.raw\u001b[0m\u001b[0;36m.bbh\u001b[0m\u001b[0;35m\u001b[0m\n",
      "(\u001b[0;36msimdir2scentry\u001b[0m)>> done.\n",
      "## The following is \u001b[31minvalid\u001b[0m: \u001b[0;36m/Volumes/athena/silures/BAM/q4Sebastian/q4a0_T_112_448/q4a0_T_112_448/psi4modes.bbh\u001b[0m\n",
      "[Log for <nrutils.core.nrsc.scentry instance at 0x10ddc5050>] The file is \"/Volumes/athena/silures/BAM/q4Sebastian/q4a0_T_112_448/q4a0_T_112_448/psi4modes.bbh\". This entry's metadta file is invalid.\n",
      "## Working: \u001b[0;36m/Volumes/athena/silures/BAM/q4Sebastian/q4a0_T_112_448/q4a0_T_112_448/q4a0_T_112_448.bbh\u001b[0m\n",
      "\u001b[1m(\u001b[0;33mbam.py!\u001b[0m)>> \u001b[0m\u001b[0;36mWarning:\u001b[0m\u001b[0;33m The afterjunk spins appear to have been stored incorrectly. All parameters according to the initial data (as stored in the bbh files) will be stored. \u001b[0m\n",
      "(\u001b[0;36mscentry.learn_metadata\u001b[0m)>> The handler is found to have a \"\u001b[92minfer_default_level_and_extraction_parameter\u001b[0m\" method. Rather than the config file, this method will be used to determine the default extraction parameter and level.\n",
      "\u001b[1m(\u001b[0;33mvalidate!\u001b[0m)>> \u001b[0mMultiple catalog directories found. We will scan through the related list, and then store first the catalog_dir that the OS can find.\n",
      "\u001b[1m(\u001b[0;33mvalidate!\u001b[0m)>> \u001b[0mSelecting \"\u001b[0;36m/Users/book/MOUNT/tmp/mnt/hogshead/NR_data/ReducedData-hogshead/\u001b[0m\"\n",
      "/Users/book/MOUNT/tmp/mnt/hogshead/NR_data/ReducedData-hogshead//Psi4ModeDecomp/*l2.m2*.gz\n",
      "[]\n",
      "90\n",
      "[]\n",
      "\u001b[1m(\u001b[0;33mscentry!\u001b[0m)>> \u001b[0mThe following error message will be logged: \u001b[31mexceptions must be old-style classes or derived from BaseException, not NoneType\u001b[0m\n",
      "[Log for <nrutils.core.nrsc.scentry instance at 0x10ddc5050>] The file is \"/Volumes/athena/silures/BAM/q4Sebastian/q4a0_T_112_448/q4a0_T_112_448/q4a0_T_112_448.bbh\". This entry's metadata file is valid. [FATALERROR] The metadata failed to be read. There may be an external formatting inconsistency. It is being marked as invalid with None. The system says: exceptions must be old-style classes or derived from BaseException, not NoneType\n",
      "## The following is \u001b[31minvalid\u001b[0m: \u001b[0;36m/Volumes/athena/silures/BAM/q4Sebastian/q4a0_T_112_448/q4a0_T_112_448/q4a0_T_112_448.raw.bbh\u001b[0m\n",
      "[Log for <nrutils.core.nrsc.scentry instance at 0x10ddc5050>] The file is \"/Volumes/athena/silures/BAM/q4Sebastian/q4a0_T_112_448/q4a0_T_112_448/q4a0_T_112_448.raw.bbh\". This entry's metadta file is invalid.\n",
      "\n",
      "# -~-~-~-~-~-~-~-~-~-~-~-~-~-~-~-~-~-~-~-~-~-~-~-~-~-~-~-~-~-~-~-~-~-~-~-~-~-~-~-~-~-~-~-~-~-~-~-~-~-~-~-~-~-~-~-~-~-~-~-~-~-~-~-~-~-~-~-~-~-~-~-~-~-~-~-~-~-~-~-~-~-~-~-~-~-~-~-~-~-~-~-~-~-~-~-~-~-~-~-~-~-~-~-~-~-~-~-~-~-~-~-~-~-~-~-~-~-~-~-~-~ #\n",
      "\u001b[1m(\u001b[0;36msimdir2scentry\u001b[0m)>> Searching for \u001b[0;36m.bbh\u001b[0m in \u001b[0;36m/Volumes/athena/silures/BAM/q4Sebastian/q4a0_T_112_448/q4a0_T_112_448/\u001b[0m.\u001b[0;33m This may take a long time if the folder being searched is mounted from a remote drive.\u001b[0m\u001b[0m\n",
      "# -~-~-~-~-~-~-~-~-~-~-~-~-~-~-~-~-~-~-~-~-~-~-~-~-~-~-~-~-~-~-~-~-~-~-~-~-~-~-~-~-~-~-~-~-~-~-~-~-~-~-~-~-~-~-~-~-~-~-~-~-~-~-~-~-~-~-~-~-~-~-~-~-~-~-~-~-~-~-~-~-~-~-~-~-~-~-~-~-~-~-~-~-~-~-~-~-~-~-~-~-~-~-~-~-~-~-~-~-~-~-~-~-~-~-~-~-~-~-~-~-~ #\n",
      "\n",
      "(\u001b[0;36mrfind\u001b[0m)>> Seaching for \u001b[0;36m.bbh\u001b[0m in \u001b[0;36m/Volumes/athena/silures/BAM/q4Sebastian/q4a0_T_112_448/q4a0_T_112_448/\u001b[0m:\n",
      "\u001b[0;35m  ->  /Volumes/athena/silures/BAM/q4Sebastian/q4a0_T_112_448/q4a0_T_112_448/psi4modes\u001b[0m\u001b[0;36m.bbh\u001b[0m\u001b[0;35m\u001b[0m\n",
      "\u001b[0;35m  ->  /Volumes/athena/silures/BAM/q4Sebastian/q4a0_T_112_448/q4a0_T_112_448/q4a0_T_112_448\u001b[0m\u001b[0;36m.bbh\u001b[0m\u001b[0;35m\u001b[0m\n",
      "\u001b[0;35m  ->  /Volumes/athena/silures/BAM/q4Sebastian/q4a0_T_112_448/q4a0_T_112_448/q4a0_T_112_448.raw\u001b[0m\u001b[0;36m.bbh\u001b[0m\u001b[0;35m\u001b[0m\n",
      "(\u001b[0;36msimdir2scentry\u001b[0m)>> done.\n",
      "## The following is \u001b[31minvalid\u001b[0m: \u001b[0;36m/Volumes/athena/silures/BAM/q4Sebastian/q4a0_T_112_448/q4a0_T_112_448/psi4modes.bbh\u001b[0m\n",
      "[Log for <nrutils.core.nrsc.scentry instance at 0x10ddc5050>] The file is \"/Volumes/athena/silures/BAM/q4Sebastian/q4a0_T_112_448/q4a0_T_112_448/psi4modes.bbh\". This entry's metadta file is invalid.\n",
      "## Working: \u001b[0;36m/Volumes/athena/silures/BAM/q4Sebastian/q4a0_T_112_448/q4a0_T_112_448/q4a0_T_112_448.bbh\u001b[0m\n",
      "\u001b[1m(\u001b[0;33mbam.py!\u001b[0m)>> \u001b[0m\u001b[0;36mWarning:\u001b[0m\u001b[0;33m The afterjunk spins appear to have been stored incorrectly. All parameters according to the initial data (as stored in the bbh files) will be stored. \u001b[0m\n",
      "(\u001b[0;36mscentry.learn_metadata\u001b[0m)>> The handler is found to have a \"\u001b[92minfer_default_level_and_extraction_parameter\u001b[0m\" method. Rather than the config file, this method will be used to determine the default extraction parameter and level.\n",
      "/Users/book/MOUNT/tmp/raid/data/ReducedData//Psi4ModeDecomp/*l2.m2*.gz\n",
      "[]\n",
      "90\n",
      "[]\n",
      "\u001b[1m(\u001b[0;33mscentry!\u001b[0m)>> \u001b[0mThe following error message will be logged: \u001b[31mexceptions must be old-style classes or derived from BaseException, not NoneType\u001b[0m\n",
      "[Log for <nrutils.core.nrsc.scentry instance at 0x10ddc5050>] The file is \"/Volumes/athena/silures/BAM/q4Sebastian/q4a0_T_112_448/q4a0_T_112_448/q4a0_T_112_448.bbh\". This entry's metadata file is valid. [FATALERROR] The metadata failed to be read. There may be an external formatting inconsistency. It is being marked as invalid with None. The system says: exceptions must be old-style classes or derived from BaseException, not NoneType\n",
      "## The following is \u001b[31minvalid\u001b[0m: \u001b[0;36m/Volumes/athena/silures/BAM/q4Sebastian/q4a0_T_112_448/q4a0_T_112_448/q4a0_T_112_448.raw.bbh\u001b[0m\n",
      "[Log for <nrutils.core.nrsc.scentry instance at 0x10ddc5050>] The file is \"/Volumes/athena/silures/BAM/q4Sebastian/q4a0_T_112_448/q4a0_T_112_448/q4a0_T_112_448.raw.bbh\". This entry's metadta file is invalid.\n",
      "\n",
      "# -~-~-~-~-~-~-~-~-~-~-~-~-~-~-~-~-~-~-~-~-~-~-~-~-~-~-~-~-~-~-~-~-~-~-~-~-~-~-~-~-~-~-~-~-~-~-~-~-~-~-~-~-~-~-~-~-~-~-~-~-~-~-~-~-~-~-~-~-~-~-~-~-~-~-~-~-~-~-~-~-~-~-~-~-~-~-~-~-~-~-~-~-~-~-~-~-~-~-~-~-~-~-~-~-~-~-~-~-~-~-~-~-~-~-~-~-~-~-~-~-~ #\n",
      "\u001b[1m(\u001b[0;36msimdir2scentry\u001b[0m)>> Searching for \u001b[0;36m.bbh\u001b[0m in \u001b[0;36m/Volumes/athena/silures/BAM/q4Sebastian/q4a0_T_112_448/q4a0_T_112_448/\u001b[0m.\u001b[0;33m This may take a long time if the folder being searched is mounted from a remote drive.\u001b[0m\u001b[0m\n",
      "# -~-~-~-~-~-~-~-~-~-~-~-~-~-~-~-~-~-~-~-~-~-~-~-~-~-~-~-~-~-~-~-~-~-~-~-~-~-~-~-~-~-~-~-~-~-~-~-~-~-~-~-~-~-~-~-~-~-~-~-~-~-~-~-~-~-~-~-~-~-~-~-~-~-~-~-~-~-~-~-~-~-~-~-~-~-~-~-~-~-~-~-~-~-~-~-~-~-~-~-~-~-~-~-~-~-~-~-~-~-~-~-~-~-~-~-~-~-~-~-~-~ #\n",
      "\n",
      "(\u001b[0;36mrfind\u001b[0m)>> Seaching for \u001b[0;36m.bbh\u001b[0m in \u001b[0;36m/Volumes/athena/silures/BAM/q4Sebastian/q4a0_T_112_448/q4a0_T_112_448/\u001b[0m:\n",
      "\u001b[0;35m  ->  /Volumes/athena/silures/BAM/q4Sebastian/q4a0_T_112_448/q4a0_T_112_448/psi4modes\u001b[0m\u001b[0;36m.bbh\u001b[0m\u001b[0;35m\u001b[0m\n",
      "\u001b[0;35m  ->  /Volumes/athena/silures/BAM/q4Sebastian/q4a0_T_112_448/q4a0_T_112_448/q4a0_T_112_448\u001b[0m\u001b[0;36m.bbh\u001b[0m\u001b[0;35m\u001b[0m\n",
      "\u001b[0;35m  ->  /Volumes/athena/silures/BAM/q4Sebastian/q4a0_T_112_448/q4a0_T_112_448/q4a0_T_112_448.raw\u001b[0m\u001b[0;36m.bbh\u001b[0m\u001b[0;35m\u001b[0m\n",
      "(\u001b[0;36msimdir2scentry\u001b[0m)>> done.\n",
      "## The following is \u001b[31minvalid\u001b[0m: \u001b[0;36m/Volumes/athena/silures/BAM/q4Sebastian/q4a0_T_112_448/q4a0_T_112_448/psi4modes.bbh\u001b[0m\n",
      "[Log for <nrutils.core.nrsc.scentry instance at 0x10ddc5050>] The file is \"/Volumes/athena/silures/BAM/q4Sebastian/q4a0_T_112_448/q4a0_T_112_448/psi4modes.bbh\". This entry's metadta file is invalid.\n",
      "## Working: \u001b[0;36m/Volumes/athena/silures/BAM/q4Sebastian/q4a0_T_112_448/q4a0_T_112_448/q4a0_T_112_448.bbh\u001b[0m\n",
      "\u001b[1m(\u001b[0;33mbam.py!\u001b[0m)>> \u001b[0m\u001b[0;36mWarning:\u001b[0m\u001b[0;33m The afterjunk spins appear to have been stored incorrectly. All parameters according to the initial data (as stored in the bbh files) will be stored. \u001b[0m\n",
      "(\u001b[0;36mscentry.learn_metadata\u001b[0m)>> The handler is found to have a \"\u001b[92minfer_default_level_and_extraction_parameter\u001b[0m\" method. Rather than the config file, this method will be used to determine the default extraction parameter and level.\n",
      "\u001b[1m(\u001b[0;33mvalidate!\u001b[0m)>> \u001b[0mMultiple catalog directories found. We will scan through the related list, and then store first the catalog_dir that the OS can find.\n",
      "\u001b[1m(\u001b[0;33mvalidate!\u001b[0m)>> \u001b[0mSelecting \"\u001b[0;36m/Volumes/athena/silures/\u001b[0m\"\n",
      "/Volumes/athena/silures//Psi4ModeDecomp/*l2.m2*.gz\n",
      "[]\n",
      "90\n",
      "[]\n",
      "\u001b[1m(\u001b[0;33mscentry!\u001b[0m)>> \u001b[0mThe following error message will be logged: \u001b[31mexceptions must be old-style classes or derived from BaseException, not NoneType\u001b[0m\n",
      "[Log for <nrutils.core.nrsc.scentry instance at 0x10ddc5050>] The file is \"/Volumes/athena/silures/BAM/q4Sebastian/q4a0_T_112_448/q4a0_T_112_448/q4a0_T_112_448.bbh\". This entry's metadata file is valid. [FATALERROR] The metadata failed to be read. There may be an external formatting inconsistency. It is being marked as invalid with None. The system says: exceptions must be old-style classes or derived from BaseException, not NoneType\n",
      "## The following is \u001b[31minvalid\u001b[0m: \u001b[0;36m/Volumes/athena/silures/BAM/q4Sebastian/q4a0_T_112_448/q4a0_T_112_448/q4a0_T_112_448.raw.bbh\u001b[0m\n",
      "[Log for <nrutils.core.nrsc.scentry instance at 0x1039e0dd0>] The file is \"/Volumes/athena/silures/BAM/q4Sebastian/q4a0_T_112_448/q4a0_T_112_448/q4a0_T_112_448.raw.bbh\". This entry's metadta file is invalid.\n",
      "\n",
      "# -~-~-~-~-~-~-~-~-~-~-~-~-~-~-~-~-~-~-~-~-~-~-~-~-~-~-~-~-~-~-~-~-~-~-~-~-~-~-~-~-~-~-~-~-~-~-~-~-~-~-~-~-~-~-~-~-~-~-~-~-~-~-~-~-~-~-~-~-~-~-~-~-~-~-~-~-~-~-~-~-~-~-~-~-~-~-~-~-~-~-~-~-~-~-~-~-~-~-~-~-~-~-~-~-~-~-~-~-~-~-~-~-~-~-~-~-~-~-~-~-~ #\n",
      "\u001b[1m(\u001b[0;36msimdir2scentry\u001b[0m)>> Searching for \u001b[0;36m.bbh\u001b[0m in \u001b[0;36m/Volumes/athena/silures/BAM/q4Sebastian/q4a0_T_112_448/q4a0_T_112_448/\u001b[0m.\u001b[0;33m This may take a long time if the folder being searched is mounted from a remote drive.\u001b[0m\u001b[0m\n",
      "# -~-~-~-~-~-~-~-~-~-~-~-~-~-~-~-~-~-~-~-~-~-~-~-~-~-~-~-~-~-~-~-~-~-~-~-~-~-~-~-~-~-~-~-~-~-~-~-~-~-~-~-~-~-~-~-~-~-~-~-~-~-~-~-~-~-~-~-~-~-~-~-~-~-~-~-~-~-~-~-~-~-~-~-~-~-~-~-~-~-~-~-~-~-~-~-~-~-~-~-~-~-~-~-~-~-~-~-~-~-~-~-~-~-~-~-~-~-~-~-~-~ #\n",
      "\n",
      "(\u001b[0;36mrfind\u001b[0m)>> Seaching for \u001b[0;36m.bbh\u001b[0m in \u001b[0;36m/Volumes/athena/silures/BAM/q4Sebastian/q4a0_T_112_448/q4a0_T_112_448/\u001b[0m:\n",
      "\u001b[0;35m  ->  /Volumes/athena/silures/BAM/q4Sebastian/q4a0_T_112_448/q4a0_T_112_448/psi4modes\u001b[0m\u001b[0;36m.bbh\u001b[0m\u001b[0;35m\u001b[0m\n",
      "\u001b[0;35m  ->  /Volumes/athena/silures/BAM/q4Sebastian/q4a0_T_112_448/q4a0_T_112_448/q4a0_T_112_448\u001b[0m\u001b[0;36m.bbh\u001b[0m\u001b[0;35m\u001b[0m\n",
      "\u001b[0;35m  ->  /Volumes/athena/silures/BAM/q4Sebastian/q4a0_T_112_448/q4a0_T_112_448/q4a0_T_112_448.raw\u001b[0m\u001b[0;36m.bbh\u001b[0m\u001b[0;35m\u001b[0m\n",
      "(\u001b[0;36msimdir2scentry\u001b[0m)>> done.\n",
      "## The following is \u001b[31minvalid\u001b[0m: \u001b[0;36m/Volumes/athena/silures/BAM/q4Sebastian/q4a0_T_112_448/q4a0_T_112_448/psi4modes.bbh\u001b[0m\n",
      "[Log for <nrutils.core.nrsc.scentry instance at 0x1039e0dd0>] The file is \"/Volumes/athena/silures/BAM/q4Sebastian/q4a0_T_112_448/q4a0_T_112_448/psi4modes.bbh\". This entry's metadta file is invalid.\n",
      "## Working: \u001b[0;36m/Volumes/athena/silures/BAM/q4Sebastian/q4a0_T_112_448/q4a0_T_112_448/q4a0_T_112_448.bbh\u001b[0m\n",
      "\u001b[1m(\u001b[0;33mbam.py!\u001b[0m)>> \u001b[0m\u001b[0;36mWarning:\u001b[0m\u001b[0;33m The afterjunk spins appear to have been stored incorrectly. All parameters according to the initial data (as stored in the bbh files) will be stored. \u001b[0m\n",
      "(\u001b[0;36mscentry.learn_metadata\u001b[0m)>> The handler is found to have a \"\u001b[92minfer_default_level_and_extraction_parameter\u001b[0m\" method. Rather than the config file, this method will be used to determine the default extraction parameter and level.\n",
      "/Users/book/MOUNT/spxll@uib/data/Reduced_Data/BAM//Psi4ModeDecomp/*l2.m2*.gz\n",
      "[]\n",
      "90\n",
      "[]\n",
      "\u001b[1m(\u001b[0;33mscentry!\u001b[0m)>> \u001b[0mThe following error message will be logged: \u001b[31mexceptions must be old-style classes or derived from BaseException, not NoneType\u001b[0m\n",
      "[Log for <nrutils.core.nrsc.scentry instance at 0x1039e0dd0>] The file is \"/Volumes/athena/silures/BAM/q4Sebastian/q4a0_T_112_448/q4a0_T_112_448/q4a0_T_112_448.bbh\". This entry's metadata file is valid. [FATALERROR] The metadata failed to be read. There may be an external formatting inconsistency. It is being marked as invalid with None. The system says: exceptions must be old-style classes or derived from BaseException, not NoneType\n",
      "## The following is \u001b[31minvalid\u001b[0m: \u001b[0;36m/Volumes/athena/silures/BAM/q4Sebastian/q4a0_T_112_448/q4a0_T_112_448/q4a0_T_112_448.raw.bbh\u001b[0m\n",
      "[Log for <nrutils.core.nrsc.scentry instance at 0x1039e0dd0>] The file is \"/Volumes/athena/silures/BAM/q4Sebastian/q4a0_T_112_448/q4a0_T_112_448/q4a0_T_112_448.raw.bbh\". This entry's metadta file is invalid.\n"
     ]
    }
   ],
   "source": [
    "# sim_dir = '/Users/book/MOUNT/tmp/mnt/hogshead/NR_data/ReducedData-hogshead/q2/q2a04t30dPm2_T_96_408'\n",
    "sim_dir = '/Volumes/athena/silures/BAM/q4Sebastian/q4a0_T_112_448/q4a0_T_112_448/'\n",
    "# sim_dir = '/Users/book/MOUNT/tmp/mnt/hogshead/NR_data/Mirror/Machines/UIBAtlas/data/Reduced_Data/BAM/q4Sebastian/q4a0_T_112_448/q4a0_T_112_448/'\n",
    "sce = simdir2scentry( sim_dir )"
   ]
  },
  {
   "cell_type": "code",
   "execution_count": 9,
   "metadata": {
    "ExecuteTime": {
     "end_time": "2017-10-27T19:07:34.462121Z",
     "start_time": "2017-10-27T19:07:34.388805"
    },
    "collapsed": false
   },
   "outputs": [
    {
     "data": {
      "text/plain": [
       "[]"
      ]
     },
     "execution_count": 9,
     "metadata": {},
     "output_type": "execute_result"
    }
   ],
   "source": [
    "sce"
   ]
  },
  {
   "cell_type": "code",
   "execution_count": 10,
   "metadata": {
    "ExecuteTime": {
     "end_time": "2017-10-27T19:07:39.539213Z",
     "start_time": "2017-10-27T19:07:34.465930"
    },
    "collapsed": false
   },
   "outputs": [
    {
     "name": "stdout",
     "output_type": "stream",
     "text": [
      "(\u001b[0;36mscsearch\u001b[0m)>> Found \u001b[4minstitute\u001b[0m (='bam') keyword.\n",
      "(\u001b[0;36mscsearch\u001b[0m)>> Found \u001b[4mnonspinning\u001b[0m (=True) keyword.\n",
      "(\u001b[0;36mscsearch\u001b[0m)>> Found \u001b[4mq\u001b[0m (=4) keyword.\n",
      "(\u001b[0;36mscsearch\u001b[0m)>> Found \u001b[4mverbose\u001b[0m (=True) keyword.\n",
      "## Found \u001b[1m2\u001b[0m\u001b[0;35m possibly degenerate\u001b[0m simulations:\n",
      "[0001][\u001b[92msilures\u001b[0m] \u001b[0;36mBAM\u001b[0m: ns-q4.00\t(\u001b[0;36mq4a0_T_112_448\u001b[0m)\n",
      "[0002][\u001b[92msilures\u001b[0m] \u001b[0;36mBAM\u001b[0m: ns-q4.00\t(\u001b[0;36mum4_88\u001b[0m)\n",
      "\n"
     ]
    }
   ],
   "source": [
    "A = scsearch(q=4,nonspinning=True,institute='bam',verbose=True)"
   ]
  },
  {
   "cell_type": "code",
   "execution_count": 5,
   "metadata": {
    "ExecuteTime": {
     "end_time": "2017-10-27T15:35:34.608490Z",
     "start_time": "2017-10-27T15:35:34.466821"
    },
    "collapsed": false
   },
   "outputs": [
    {
     "name": "stdout",
     "output_type": "stream",
     "text": [
      "\u001b[1m(\u001b[0;33mvalidate!\u001b[0m)>> \u001b[0mMultiple catalog directories found. We will scan through the related list, and then store first the catalog_dir that the OS can find.\n",
      "\u001b[1m(\u001b[0;33mvalidate!\u001b[0m)>> \u001b[0mSelecting \"\u001b[0;36m/Users/book/MOUNT/tmp/mnt/hogshead/NR_data/Mirror/Machines/UIBAtlas/data/Reduced_Data/\u001b[0m\"\n",
      "/Users/book/MOUNT/tmp/mnt/hogshead/NR_data/Mirror/Machines/UIBAtlas/data/Reduced_Data/BAM/q4Sebastian/q4a0_T_112_448/q4a0_T_112_448/\n"
     ]
    }
   ],
   "source": [
    "print A[0].simdir()"
   ]
  },
  {
   "cell_type": "code",
   "execution_count": null,
   "metadata": {
    "collapsed": true
   },
   "outputs": [],
   "source": []
  }
 ],
 "metadata": {
  "kernelspec": {
   "display_name": "Python [Root]",
   "language": "python",
   "name": "Python [Root]"
  },
  "language_info": {
   "codemirror_mode": {
    "name": "ipython",
    "version": 2
   },
   "file_extension": ".py",
   "mimetype": "text/x-python",
   "name": "python",
   "nbconvert_exporter": "python",
   "pygments_lexer": "ipython2",
   "version": "2.7.9"
  }
 },
 "nbformat": 4,
 "nbformat_minor": 0
}
