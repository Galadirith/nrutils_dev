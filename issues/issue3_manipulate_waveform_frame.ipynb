{
 "cells": [
  {
   "cell_type": "markdown",
   "metadata": {},
   "source": [
    "# Manipulate waveform decomposition frame and find corotating angles"
   ]
  },
  {
   "cell_type": "markdown",
   "metadata": {},
   "source": [
    "### Setup Environment"
   ]
  },
  {
   "cell_type": "code",
   "execution_count": 6,
   "metadata": {
    "ExecuteTime": {
     "end_time": "2017-10-30T10:31:51.475750Z",
     "start_time": "2017-10-30T10:31:51.408897"
    },
    "collapsed": false
   },
   "outputs": [
    {
     "name": "stdout",
     "output_type": "stream",
     "text": [
      "The autoreload extension is already loaded. To reload it, use:\n",
      "  %reload_ext autoreload\n"
     ]
    }
   ],
   "source": [
    "# Setup ipython environment\n",
    "%load_ext autoreload\n",
    "%autoreload 2\n",
    "%matplotlib inline\n",
    "# Setup plotting backend\n",
    "import matplotlib as mpl\n",
    "mpl.rcParams['lines.linewidth'] = 0.8\n",
    "mpl.rcParams['font.family'] = 'serif'\n",
    "mpl.rcParams['font.size'] = 12\n",
    "mpl.rcParams['axes.labelsize'] = 20\n",
    "mpl.rcParams['axes.titlesize'] = 20\n",
    "from matplotlib.pyplot import *\n",
    "# Import needed packages from positive\n",
    "from positive.plotting import sYlm_mollweide_plot\n",
    "from positive import alert\n",
    "# Import other usefuls\n",
    "from os.path import expanduser\n",
    "from nrutils import scsearch,gwylm\n",
    "from nrutils.core.basics import *\n",
    "from numpy import *"
   ]
  },
  {
   "cell_type": "markdown",
   "metadata": {},
   "source": [
    "### Find a simulation"
   ]
  },
  {
   "cell_type": "code",
   "execution_count": 115,
   "metadata": {
    "ExecuteTime": {
     "end_time": "2017-10-30T13:24:48.087496Z",
     "start_time": "2017-10-30T13:24:43.790054"
    },
    "collapsed": false
   },
   "outputs": [
    {
     "name": "stdout",
     "output_type": "stream",
     "text": [
      "(\u001b[0;36mscsearch\u001b[0m)>> Found \u001b[4minstitute\u001b[0m (='bam') keyword.\n",
      "(\u001b[0;36mscsearch\u001b[0m)>> Found \u001b[4mkeyword\u001b[0m (='q1.2_dqdcp2') keyword.\n",
      "(\u001b[0;36mscsearch\u001b[0m)>> Found \u001b[4mverbose\u001b[0m (=True) keyword.\n",
      "(\u001b[0;36mscsearch\u001b[0m)>> List of keywords or string keyword found: \u001b[0;36mALL scentry objects matching will be passed.\u001b[0m To pass ANY entries matching the keywords, input the keywords using an iterable of not of type list.\n",
      "## Found \u001b[1m2\u001b[0m\u001b[0;35m possibly degenerate\u001b[0m simulations:\n",
      "[0001][\u001b[92msilures\u001b[0m] \u001b[0;36mBAM\u001b[0m: 1chi0.67-2chi0.42-p-q1.50\t(\u001b[0;36mq1.2_dqdcp2\u001b[0m)\n",
      "[0002][\u001b[92mhogshead\u001b[0m] \u001b[0;36mdirac-nr-followup\u001b[0m: 1chi0.67-2chi0.42-p-q1.50\t(\u001b[0;36mq1.2_dqdcp2\u001b[0m)\n",
      "\n"
     ]
    }
   ],
   "source": [
    "A = scsearch(institute='bam',keyword='q1.2_dqdcp2',verbose=True)\n",
    "# A = scsearch(institute='gt',keyword='Sq4_d9_a0.6_oth.090_rr_M140',verbose=True)\n",
    "# A = scsearch(q=1,keyword='hrq',verbose=True)"
   ]
  },
  {
   "cell_type": "markdown",
   "metadata": {},
   "source": [
    "### Load waveform data"
   ]
  },
  {
   "cell_type": "code",
   "execution_count": 116,
   "metadata": {
    "ExecuteTime": {
     "end_time": "2017-10-30T13:24:54.982325Z",
     "start_time": "2017-10-30T13:24:48.090401"
    },
    "collapsed": false
   },
   "outputs": [],
   "source": [
    "y = gwylm( A[0], lmax=3, clean=True )\n",
    "# y = gwylm( A[0], lm=[(2,2),(2,1),(2,0)], clean=False )"
   ]
  },
  {
   "cell_type": "markdown",
   "metadata": {},
   "source": [
    "### Try to calculate corotating angles"
   ]
  },
  {
   "cell_type": "code",
   "execution_count": null,
   "metadata": {
    "ExecuteTime": {
     "start_time": "2017-10-30T13:24:45.111Z"
    },
    "collapsed": false
   },
   "outputs": [],
   "source": [
    "\n",
    "# Options\n",
    "kind = 'psi4'\n",
    "domain = 'time'\n",
    "\n",
    "# Construct dictionary of multipoles using all multipoles available\n",
    "mp = { (l,m) : ( y.lm[l,m][kind].y if domain in ('t','time') else y.lm[l,m][kind].fd_y ) for l,m in y.lm  }\n",
    "t = y.lm[2,2][kind].t\n",
    "\n",
    "# Calculate corotating angles using low-level function\n",
    "alpha,beta,gamma = calc_coprecessing_angles( mp, t )\n",
    "x,yy,z            = calc_coprecessing_angles( mp, t, return_xyz=True )\n"
   ]
  },
  {
   "cell_type": "markdown",
   "metadata": {},
   "source": [
    "### Plot the angles and the waveform amplitude for reference"
   ]
  },
  {
   "cell_type": "code",
   "execution_count": null,
   "metadata": {
    "ExecuteTime": {
     "start_time": "2017-10-30T13:24:46.152Z"
    },
    "collapsed": false
   },
   "outputs": [
    {
     "data": {
      "text/plain": [
       "(418.64999999999998, 1374.0)"
      ]
     },
     "execution_count": 118,
     "metadata": {},
     "output_type": "execute_result"
    }
   ],
   "source": [
    "\n",
    "#\n",
    "fig = figure( figsize=4*figaspect(1) )\n",
    "clr = rgb(3,jet=True); grey = ones(3)*0.8\n",
    "lw = 1.5\n",
    "\n",
    "#\n",
    "mask = (t>=t[y.preinspiral.right_index]) & (t<=t[y.postringdown.left_index])\n",
    "\n",
    "#\n",
    "ax = subplot(3,1,1)\n",
    "title( y.simname )\n",
    "plot( t, y.lm[2,2][kind].plus, color=grey, linewidth = lw )\n",
    "plot( t, y.lm[2,2][kind].cross, color=0.8*grey, linewidth = lw )\n",
    "plot( t, y.lm[2,2][kind].amp, linewidth = lw )\n",
    "yscale('log')\n",
    "\n",
    "#\n",
    "subplot(3,1,2,sharex=ax)\n",
    "plot( t, alpha, color = clr[0], linewidth = lw, label=r'$\\alpha$' )\n",
    "plot( t, beta,  color = clr[1], linewidth = lw, label=r'$\\beta$' )\n",
    "plot( t, gamma, color = clr[2], linewidth = lw, label=r'$\\gamma$' )\n",
    "legend( frameon=False, loc='best' )\n",
    "ylim( lim( hstack([alpha[mask],gamma[mask],beta[mask]]), dilate=0.1 ) )\n",
    "\n",
    "#\n",
    "subplot(3,1,3,sharex=ax)\n",
    "plot( t, x, color = clr[0], linewidth = lw, label=r'$x$' )\n",
    "plot( t, yy,  color = clr[1], linewidth = lw, label=r'$y$' )\n",
    "plot( t, z, color = clr[2], linewidth = lw, label=r'$z$' )\n",
    "legend( frameon=False, loc='best' )\n",
    "ylim( lim( hstack([x[mask],yy[mask],z[mask]]), dilate=0.1 ) )\n",
    "\n",
    "#\n",
    "ax.set_xlim( [ t[y.preinspiral.right_index], t[y.postringdown.left_index] ] )"
   ]
  },
  {
   "cell_type": "code",
   "execution_count": null,
   "metadata": {
    "collapsed": true
   },
   "outputs": [],
   "source": []
  }
 ],
 "metadata": {
  "kernelspec": {
   "display_name": "Python [Root]",
   "language": "python",
   "name": "Python [Root]"
  },
  "language_info": {
   "codemirror_mode": {
    "name": "ipython",
    "version": 2
   },
   "file_extension": ".py",
   "mimetype": "text/x-python",
   "name": "python",
   "nbconvert_exporter": "python",
   "pygments_lexer": "ipython2",
   "version": "2.7.9"
  }
 },
 "nbformat": 4,
 "nbformat_minor": 0
}
